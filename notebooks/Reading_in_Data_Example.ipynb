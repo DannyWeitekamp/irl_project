{
 "cells": [
  {
   "cell_type": "code",
   "execution_count": 12,
   "metadata": {
    "collapsed": true
   },
   "outputs": [],
   "source": [
    "import os\n",
    "from PIL import Image\n",
    "from io import BytesIO\n",
    "import json\n",
    "import base64"
   ]
  },
  {
   "cell_type": "markdown",
   "metadata": {},
   "source": [
    "# Working with images saved into websites folder"
   ]
  },
  {
   "cell_type": "code",
   "execution_count": 13,
   "metadata": {
    "collapsed": true
   },
   "outputs": [],
   "source": [
    "#os.listdir()"
   ]
  },
  {
   "cell_type": "code",
   "execution_count": 14,
   "metadata": {
    "collapsed": true
   },
   "outputs": [],
   "source": [
    "# import json \n",
    "\n",
    "\n",
    "with open('../data/example_data_01/data.json') as data_file:    \n",
    "    data = json.load(data_file)"
   ]
  },
  {
   "cell_type": "code",
   "execution_count": 15,
   "metadata": {},
   "outputs": [
    {
     "data": {
      "text/plain": [
       "[u'41',\n",
       " u'24',\n",
       " u'25',\n",
       " u'26',\n",
       " u'27',\n",
       " u'20',\n",
       " u'21',\n",
       " u'22',\n",
       " u'23',\n",
       " u'28',\n",
       " u'29',\n",
       " u'4',\n",
       " u'8',\n",
       " u'120',\n",
       " u'121',\n",
       " u'122',\n",
       " u'123',\n",
       " u'124',\n",
       " u'125',\n",
       " u'126',\n",
       " u'127',\n",
       " u'59',\n",
       " u'58',\n",
       " u'55',\n",
       " u'54',\n",
       " u'57',\n",
       " u'56',\n",
       " u'51',\n",
       " u'50',\n",
       " u'53',\n",
       " u'52',\n",
       " u'115',\n",
       " u'114',\n",
       " u'88',\n",
       " u'89',\n",
       " u'111',\n",
       " u'110',\n",
       " u'113',\n",
       " u'112',\n",
       " u'82',\n",
       " u'83',\n",
       " u'80',\n",
       " u'81',\n",
       " u'119',\n",
       " u'118',\n",
       " u'84',\n",
       " u'85',\n",
       " u'3',\n",
       " u'7',\n",
       " u'108',\n",
       " u'109',\n",
       " u'102',\n",
       " u'103',\n",
       " u'100',\n",
       " u'101',\n",
       " u'106',\n",
       " u'107',\n",
       " u'104',\n",
       " u'105',\n",
       " u'39',\n",
       " u'38',\n",
       " u'33',\n",
       " u'32',\n",
       " u'31',\n",
       " u'30',\n",
       " u'37',\n",
       " u'36',\n",
       " u'35',\n",
       " u'34',\n",
       " u'60',\n",
       " u'61',\n",
       " u'62',\n",
       " u'63',\n",
       " u'64',\n",
       " u'65',\n",
       " u'66',\n",
       " u'67',\n",
       " u'68',\n",
       " u'69',\n",
       " u'guid',\n",
       " u'2',\n",
       " u'6',\n",
       " u'99',\n",
       " u'98',\n",
       " u'91',\n",
       " u'90',\n",
       " u'93',\n",
       " u'92',\n",
       " u'95',\n",
       " u'94',\n",
       " u'97',\n",
       " u'96',\n",
       " u'11',\n",
       " u'10',\n",
       " u'13',\n",
       " u'12',\n",
       " u'15',\n",
       " u'14',\n",
       " u'17',\n",
       " u'16',\n",
       " u'19',\n",
       " u'18',\n",
       " u'117',\n",
       " u'116',\n",
       " u'48',\n",
       " u'49',\n",
       " u'46',\n",
       " u'86',\n",
       " u'44',\n",
       " u'45',\n",
       " u'42',\n",
       " u'43',\n",
       " u'40',\n",
       " u'87',\n",
       " u'1',\n",
       " u'5',\n",
       " u'9',\n",
       " u'77',\n",
       " u'76',\n",
       " u'75',\n",
       " u'74',\n",
       " u'73',\n",
       " u'72',\n",
       " u'71',\n",
       " u'70',\n",
       " u'79',\n",
       " u'78',\n",
       " u'47']"
      ]
     },
     "execution_count": 15,
     "metadata": {},
     "output_type": "execute_result"
    }
   ],
   "source": [
    "data.keys()"
   ]
  },
  {
   "cell_type": "code",
   "execution_count": 17,
   "metadata": {
    "collapsed": true
   },
   "outputs": [],
   "source": [
    "# takes a few seconds # \n",
    "for key in data.keys():\n",
    "    if key!='guid':\n",
    "        im = Image.open(BytesIO(base64.b64decode(data[key]['screen_image'].split(',')[-1])))\n",
    "        im.save('../data/example_data_01/MID-game-test-'+'{0:04d}'.format(int(key))+'.png', 'png')\n"
   ]
  },
  {
   "cell_type": "markdown",
   "metadata": {},
   "source": [
    "// the 10 is the frames per second"
   ]
  },
  {
   "cell_type": "code",
   "execution_count": 69,
   "metadata": {},
   "outputs": [
    {
     "name": "stderr",
     "output_type": "stream",
     "text": [
      "ffmpeg version 3.3.4 Copyright (c) 2000-2017 the FFmpeg developers\n",
      "  built with Apple LLVM version 8.1.0 (clang-802.0.42)\n",
      "  configuration: --prefix=/usr/local/Cellar/ffmpeg/3.3.4 --enable-shared --enable-pthreads --enable-gpl --enable-version3 --enable-hardcoded-tables --enable-avresample --cc=clang --host-cflags= --host-ldflags= --enable-libmp3lame --enable-libx264 --enable-libxvid --enable-opencl --enable-videotoolbox --disable-lzma --enable-vda\n",
      "  libavutil      55. 58.100 / 55. 58.100\n",
      "  libavcodec     57. 89.100 / 57. 89.100\n",
      "  libavformat    57. 71.100 / 57. 71.100\n",
      "  libavdevice    57.  6.100 / 57.  6.100\n",
      "  libavfilter     6. 82.100 /  6. 82.100\n",
      "  libavresample   3.  5.  0 /  3.  5.  0\n",
      "  libswscale      4.  6.100 /  4.  6.100\n",
      "  libswresample   2.  7.100 /  2.  7.100\n",
      "  libpostproc    54.  5.100 / 54.  5.100\n",
      "Input #0, image2, from '../data/example_data_01/MID-game-test-%04d.png':\n",
      "  Duration: 00:00:22.50, start: 0.000000, bitrate: N/A\n",
      "    Stream #0:0: Video: png, rgba(pc), 780x500, 10 fps, 10 tbr, 10 tbn, 10 tbc\n",
      "Stream mapping:\n",
      "  Stream #0:0 -> #0:0 (png (native) -> mpeg4 (native))\n",
      "Press [q] to stop, [?] for help\n",
      "Output #0, mp4, to '../data/example_data_01/movie.mp4':\n",
      "  Metadata:\n",
      "    encoder         : Lavf57.71.100\n",
      "    Stream #0:0: Video: mpeg4 ( [0][0][0] / 0x0020), yuv420p, 780x500, q=2-31, 200 kb/s, 10 fps, 10240 tbn, 10 tbc\n",
      "    Metadata:\n",
      "      encoder         : Lavc57.89.100 mpeg4\n",
      "    Side data:\n",
      "      cpb: bitrate max/min/avg: 0/0/200000 buffer size: 0 vbv_delay: -1\n",
      "frame=  195 fps=0.0 q=2.0 size=     565kB time=00:00:19.40 bitrate= 238.6kbits/s speed=38.7x    \r",
      "frame=  225 fps=0.0 q=2.0 Lsize=     608kB time=00:00:22.40 bitrate= 222.2kbits/s speed=39.1x    \n",
      "video:606kB audio:0kB subtitle:0kB other streams:0kB global headers:0kB muxing overhead: 0.296798%\n"
     ]
    }
   ],
   "source": [
    "%%bash \n",
    "ffmpeg -f image2 -r 10 -i ../data/example_data_01/MID-game-test-%04d.png -vcodec mpeg4 -y ../data/example_data_01/movie.mp4"
   ]
  },
  {
   "cell_type": "code",
   "execution_count": 19,
   "metadata": {},
   "outputs": [
    {
     "data": {
      "text/html": [
       "<video width=\"420\" height=\"340\" controls>\n",
       "  <source src=\"/Users/chris/Desktop/irl_project/data/example_data_01/movie.mp4\" type=\"video/mp4\">\n",
       "</video>"
      ],
      "text/plain": [
       "<IPython.core.display.HTML object>"
      ]
     },
     "metadata": {},
     "output_type": "display_data"
    }
   ],
   "source": [
    "%%HTML\n",
    "<video width=\"420\" height=\"340\" controls>\n",
    "  <source src=\"/Users/chris/Desktop/irl_project/data/example_data_01/movie.mp4\" type=\"video/mp4\">\n",
    "</video>"
   ]
  },
  {
   "cell_type": "markdown",
   "metadata": {},
   "source": [
    "# Downloading from AWS"
   ]
  },
  {
   "cell_type": "code",
   "execution_count": 31,
   "metadata": {
    "collapsed": true
   },
   "outputs": [],
   "source": [
    "import MySQLdb\n",
    "import _mysql\n",
    "import numpy as np"
   ]
  },
  {
   "cell_type": "code",
   "execution_count": 21,
   "metadata": {
    "collapsed": true
   },
   "outputs": [],
   "source": [
    "## Connect to DB\n",
    "db=_mysql.connect(host=\"christest.c5s5wgavsyu2.us-west-2.rds.amazonaws.com\",user=\"christest\",\n",
    "                  passwd=\"gags1313\",db=\"chrisdb\")\n"
   ]
  },
  {
   "cell_type": "code",
   "execution_count": 28,
   "metadata": {},
   "outputs": [
    {
     "name": "stdout",
     "output_type": "stream",
     "text": [
      "['id', 'save_time', 'wave', 'MID', 'AID', 'HID', 'session_id']\n"
     ]
    }
   ],
   "source": [
    "# get the header\n",
    "db.query(\"\"\"SELECT column_name FROM information_schema.columns WHERE table_name = 'web_experiments_crystalquest_wave'\"\"\")\n",
    "r=db.store_result() # sends the whole results\n",
    "header = r.fetch_row(0)\n",
    "header = [hh[0] for hh in header]\n",
    "print(header)"
   ]
  },
  {
   "cell_type": "code",
   "execution_count": 22,
   "metadata": {
    "collapsed": true
   },
   "outputs": [],
   "source": [
    "db.query(\"\"\"SELECT * FROM web_experiments_crystalquest_wave WHERE (MID LIKE \"10112342%\")\"\"\")\n",
    "r=db.store_result() # sends the whole results\n",
    "rows = r.fetch_row(100)\n"
   ]
  },
  {
   "cell_type": "code",
   "execution_count": 36,
   "metadata": {},
   "outputs": [
    {
     "name": "stdout",
     "output_type": "stream",
     "text": [
      "10112342\n",
      "2017-10-28 08:45:49\n"
     ]
    }
   ],
   "source": [
    "MID = rows[0][header.index('MID')]\n",
    "print(MID)\n",
    "print(rows[0][header.index('save_time')])"
   ]
  },
  {
   "cell_type": "code",
   "execution_count": 42,
   "metadata": {},
   "outputs": [
    {
     "name": "stdout",
     "output_type": "stream",
     "text": [
      "2017-10-28_08:45:49\n"
     ]
    }
   ],
   "source": [
    "print(rows[0][header.index('save_time')].replace(' ','_'))"
   ]
  },
  {
   "cell_type": "code",
   "execution_count": 46,
   "metadata": {
    "collapsed": true
   },
   "outputs": [],
   "source": [
    "# make dir for subject\n",
    "diir='../data/'+str(rows[0][header.index('MID')])\n",
    "if not os.path.isdir(diir):\n",
    "    os.mkdir(diir)"
   ]
  },
  {
   "cell_type": "code",
   "execution_count": 56,
   "metadata": {
    "collapsed": true
   },
   "outputs": [],
   "source": [
    "# save out json\n",
    "date_for_save = rows[0][header.index('save_time')].replace(' ','_')\n",
    "filename=diir+'/'+date_for_save+'_data.json'\n",
    "obj = json.loads(rows[0][header.index('wave')])\n",
    "with open(filename, 'w') as outfile:\n",
    "        json.dump(obj, outfile)"
   ]
  },
  {
   "cell_type": "code",
   "execution_count": 57,
   "metadata": {},
   "outputs": [
    {
     "data": {
      "text/plain": [
       "['2017-10-28_08:45:49_data.json']"
      ]
     },
     "execution_count": 57,
     "metadata": {},
     "output_type": "execute_result"
    }
   ],
   "source": [
    "os.listdir('../data/10112342/')"
   ]
  },
  {
   "cell_type": "code",
   "execution_count": 58,
   "metadata": {
    "collapsed": true
   },
   "outputs": [],
   "source": [
    "# load back in \n",
    "with open(filename) as data_file:    \n",
    "    data = json.load(data_file)"
   ]
  },
  {
   "cell_type": "code",
   "execution_count": 62,
   "metadata": {},
   "outputs": [
    {
     "data": {
      "text/plain": [
       "u'00:03'"
      ]
     },
     "execution_count": 62,
     "metadata": {},
     "output_type": "execute_result"
    }
   ],
   "source": [
    "data['30']['clock_time']"
   ]
  },
  {
   "cell_type": "code",
   "execution_count": 63,
   "metadata": {
    "collapsed": true
   },
   "outputs": [],
   "source": [
    "# takes a few seconds # \n",
    "for key in data.keys():\n",
    "    if key!='guid':\n",
    "        im = Image.open(BytesIO(base64.b64decode(data[key]['screen_image'].split(',')[-1])))\n",
    "        im.save(diir+'/'+date_for_save+'{0:04d}'.format(int(key))+'.png', 'png')\n"
   ]
  },
  {
   "cell_type": "code",
   "execution_count": 65,
   "metadata": {},
   "outputs": [
    {
     "name": "stdout",
     "output_type": "stream",
     "text": [
      "../data/10112342\n",
      "2017-10-28_08:45:49\n"
     ]
    }
   ],
   "source": [
    "print(diir)\n",
    "print(date_for_save)\n",
    "#print(MID)\n",
    "\n"
   ]
  },
  {
   "cell_type": "code",
   "execution_count": 71,
   "metadata": {},
   "outputs": [
    {
     "name": "stderr",
     "output_type": "stream",
     "text": [
      "ffmpeg version 3.3.4 Copyright (c) 2000-2017 the FFmpeg developers\n",
      "  built with Apple LLVM version 8.1.0 (clang-802.0.42)\n",
      "  configuration: --prefix=/usr/local/Cellar/ffmpeg/3.3.4 --enable-shared --enable-pthreads --enable-gpl --enable-version3 --enable-hardcoded-tables --enable-avresample --cc=clang --host-cflags= --host-ldflags= --enable-libmp3lame --enable-libx264 --enable-libxvid --enable-opencl --enable-videotoolbox --disable-lzma --enable-vda\n",
      "  libavutil      55. 58.100 / 55. 58.100\n",
      "  libavcodec     57. 89.100 / 57. 89.100\n",
      "  libavformat    57. 71.100 / 57. 71.100\n",
      "  libavdevice    57.  6.100 / 57.  6.100\n",
      "  libavfilter     6. 82.100 /  6. 82.100\n",
      "  libavresample   3.  5.  0 /  3.  5.  0\n",
      "  libswscale      4.  6.100 /  4.  6.100\n",
      "  libswresample   2.  7.100 /  2.  7.100\n",
      "  libpostproc    54.  5.100 / 54.  5.100\n",
      "Input #0, image2, from '../data/10112342/2017-10-28_08:45:49%04d.png':\n",
      "  Duration: 00:00:06.30, start: 0.000000, bitrate: N/A\n",
      "    Stream #0:0: Video: png, rgba(pc), 780x500, 10 fps, 10 tbr, 10 tbn, 10 tbc\n",
      "Stream mapping:\n",
      "  Stream #0:0 -> #0:0 (png (native) -> mpeg4 (native))\n",
      "Press [q] to stop, [?] for help\n",
      "Output #0, mp4, to '../data/10112342/movie.mp4':\n",
      "  Metadata:\n",
      "    encoder         : Lavf57.71.100\n",
      "    Stream #0:0: Video: mpeg4 ( [0][0][0] / 0x0020), yuv420p, 780x500, q=2-31, 200 kb/s, 10 fps, 10240 tbn, 10 tbc\n",
      "    Metadata:\n",
      "      encoder         : Lavc57.89.100 mpeg4\n",
      "    Side data:\n",
      "      cpb: bitrate max/min/avg: 0/0/200000 buffer size: 0 vbv_delay: -1\n",
      "frame=   63 fps=0.0 q=2.0 Lsize=     127kB time=00:00:06.20 bitrate= 167.4kbits/s speed=37.1x    \n",
      "video:126kB audio:0kB subtitle:0kB other streams:0kB global headers:0kB muxing overhead: 0.884357%\n"
     ]
    }
   ],
   "source": [
    "%%bash \n",
    "ffmpeg -f image2 -r 10 -i ../data/10112342/2017-10-28_08:45:49%04d.png -vcodec mpeg4 -y ../data/10112342/movie.mp4"
   ]
  },
  {
   "cell_type": "code",
   "execution_count": null,
   "metadata": {
    "collapsed": true
   },
   "outputs": [],
   "source": []
  }
 ],
 "metadata": {
  "kernelspec": {
   "display_name": "Python 3",
   "language": "python",
   "name": "python3"
  },
  "language_info": {
   "codemirror_mode": {
    "name": "ipython",
    "version": 3
   },
   "file_extension": ".py",
   "mimetype": "text/x-python",
   "name": "python",
   "nbconvert_exporter": "python",
   "pygments_lexer": "ipython3",
   "version": "3.6.1"
  }
 },
 "nbformat": 4,
 "nbformat_minor": 2
}
